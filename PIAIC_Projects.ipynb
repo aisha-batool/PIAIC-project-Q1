{
  "nbformat": 4,
  "nbformat_minor": 0,
  "metadata": {
    "colab": {
      "provenance": []
    },
    "kernelspec": {
      "name": "python3",
      "display_name": "Python 3"
    },
    "language_info": {
      "name": "python"
    }
  },
  "cells": [
    {
      "cell_type": "markdown",
      "source": [
        "# **JOKE BOT**"
      ],
      "metadata": {
        "id": "HCKUWOI0O1JO"
      }
    },
    {
      "cell_type": "code",
      "execution_count": null,
      "metadata": {
        "colab": {
          "base_uri": "https://localhost:8080/"
        },
        "id": "IEZyNxRtLMWs",
        "outputId": "e3236eb7-b2fd-4a57-8e1b-399c0e86864d"
      },
      "outputs": [
        {
          "output_type": "stream",
          "name": "stdout",
          "text": [
            "What do you want?44\n",
            "Sorry I only tell jokes\n"
          ]
        }
      ],
      "source": [
        "# OUR CONSTANT VALUES\n",
        "joke: str = \"Here is a joke for you! Panaversity GPT - Sophia is heading out to the grocery store. A programmer tells her: get a liter of milk, and if they have eggs, get 12. Sophia returns with 13 liters of milk. The programmer asks why and Sophia replies: 'because they had eggs'\"\n",
        "prompt: str = \"What do you want? \"\n",
        "sorry: str = \"Sorry I only tell jokes\"\n",
        "\n",
        "# FUNCTION TO PRINT THE JOKE\n",
        "def joke_bot():\n",
        "    ans : str = input(prompt)\n",
        "    if ans.lower() == \"joke\":\n",
        "        print(joke)\n",
        "    else:\n",
        "        print(sorry)\n",
        "\n",
        "# This provided line is required at the end of\n",
        "# Python file to call the main() function.\n",
        "joke_bot()\n"
      ]
    },
    {
      "cell_type": "markdown",
      "source": [
        "# **DOUBLE IT**"
      ],
      "metadata": {
        "id": "piG7dTHNPMA1"
      }
    },
    {
      "cell_type": "code",
      "source": [
        "def double_it():\n",
        "  curr_value: int = int(input(\"Please enter a number: \"))\n",
        "  while curr_value <= 100:\n",
        "    curr_value = curr_value * 2\n",
        "    print(curr_value, end=\" \")\n",
        "\n",
        "double_it()"
      ],
      "metadata": {
        "colab": {
          "base_uri": "https://localhost:8080/"
        },
        "id": "Lori5yIaPQ28",
        "outputId": "de76998e-420a-4c71-beba-48d109b9b66e"
      },
      "execution_count": null,
      "outputs": [
        {
          "output_type": "stream",
          "name": "stdout",
          "text": [
            "Please enter a number: 2\n",
            "4 8 16 32 64 128 "
          ]
        }
      ]
    },
    {
      "cell_type": "markdown",
      "source": [
        "# **LIFT OFF**"
      ],
      "metadata": {
        "id": "-PiSaAP2Fc_I"
      }
    },
    {
      "cell_type": "code",
      "source": [
        "def liftoff():\n",
        "  for i in range(10, 0, -1):\n",
        "    print(i, end=\" \")\n",
        "  print(\"Liftoff!\")\n",
        "\n",
        "liftoff()"
      ],
      "metadata": {
        "colab": {
          "base_uri": "https://localhost:8080/"
        },
        "id": "NT6urjmTFkWj",
        "outputId": "0c3c6db8-7996-4d9a-f16e-f7c5eb164762"
      },
      "execution_count": null,
      "outputs": [
        {
          "output_type": "stream",
          "name": "stdout",
          "text": [
            "10 9 8 7 6 5 4 3 2 1 Liftoff!\n"
          ]
        }
      ]
    },
    {
      "cell_type": "markdown",
      "source": [
        "# **GUESS MY NUMBER**"
      ],
      "metadata": {
        "id": "v31M4RIeHdrA"
      }
    },
    {
      "cell_type": "code",
      "source": [
        "import random\n",
        "\n",
        "def guessmynumber():\n",
        "  secret_number: int = 8\n",
        "\n",
        "  print(\"You need to guess a secret number which is in between 0 and 99!\")\n",
        "  guess: int = int(input(\"Enter your guess: \"))\n",
        "  attemptN = 1\n",
        "\n",
        "  while attemptN<5 and guess!=secret_number:\n",
        "    if guess < secret_number:\n",
        "      print(\"Your guess is too low!\")\n",
        "    else:\n",
        "      print(\"Your guess is too high!\")\n",
        "    attemptsremaining += 1\n",
        "    guess: int = int(input(\"Enter your guess: \"))\n",
        "  if guess == secret_number:\n",
        "      print(\"Congratulations! You guessed the secret number\", guess, \"in\", attemptN, \"turns.\")\n",
        "  else:\n",
        "      print(\"Sorry, you ran out of attempts. The secret number was\", str(secret_number) + \".\")\n",
        "guessmynumber()"
      ],
      "metadata": {
        "colab": {
          "base_uri": "https://localhost:8080/"
        },
        "id": "MH01RKxkHhYU",
        "outputId": "39ef093a-654d-4da9-f9b3-5adf55ac6f83"
      },
      "execution_count": null,
      "outputs": [
        {
          "output_type": "stream",
          "name": "stdout",
          "text": [
            "You need to guess a secret number which is in between 0 and 99!\n",
            "Enter your guess: 7\n",
            "Your guess is too low!\n",
            "Enter your guess: 8\n",
            "Congratulations! You guessed the secret number 8 in 2 turns.\n"
          ]
        }
      ]
    },
    {
      "cell_type": "markdown",
      "source": [
        "# **RANDOM NUM**"
      ],
      "metadata": {
        "id": "ECBEZ7pnOwvP"
      }
    },
    {
      "cell_type": "code",
      "source": [
        "import random\n",
        "\n",
        "N_NUMBERS: int = 10\n",
        "MIN_VALUE: int = 1\n",
        "MAX_VALUE: int = 100\n",
        "\n",
        "def tenRandomNumbers():\n",
        "  lst = []\n",
        "  for i in range(N_NUMBERS):\n",
        "    lst.append(random.randint(MIN_VALUE, MAX_VALUE))\n",
        "  return lst\n",
        "\n",
        "print(\" \".join([str(e) for e in tenRandomNumbers()]))"
      ],
      "metadata": {
        "colab": {
          "base_uri": "https://localhost:8080/"
        },
        "id": "ZzJwITtgO58c",
        "outputId": "d27531cf-aabf-483f-a0a6-71d7ccfeb4fc"
      },
      "execution_count": null,
      "outputs": [
        {
          "output_type": "stream",
          "name": "stdout",
          "text": [
            "52 30 23 27 37 86 42 41 15 30\n"
          ]
        }
      ]
    },
    {
      "cell_type": "code",
      "source": [
        "# Random Numbers using numpy --------> numerical python\n",
        "N_NUMBERS: int = 10\n",
        "MIN_VALUE: int = 1\n",
        "MAX_VALUE: int = 101   # We are doing +1 since numpy second parameter is not inclusive.\n",
        "\n",
        "import numpy as np\n",
        "\n",
        "numbersLst = np.random.randint(MIN_VALUE, MAX_VALUE, N_NUMBERS)\n",
        "print(*numbersLst)"
      ],
      "metadata": {
        "colab": {
          "base_uri": "https://localhost:8080/"
        },
        "id": "xPRIVzEQJqiY",
        "outputId": "11210ea2-e35e-4fa5-894b-95fb78bfd52d"
      },
      "execution_count": null,
      "outputs": [
        {
          "output_type": "stream",
          "name": "stdout",
          "text": [
            "74 8 49 53 9 31 45 47 36 35\n",
            "74 8 49 53 9 31 45 47 36 35\n"
          ]
        }
      ]
    },
    {
      "cell_type": "markdown",
      "source": [
        "# **INTRO TO PYTHON**"
      ],
      "metadata": {
        "id": "LQjHs6n1K4V8"
      }
    },
    {
      "cell_type": "code",
      "source": [
        "dictP: dict = {\n",
        "    \"mercury\": 37.6,\n",
        "    \"venus\": 88.9,\n",
        "    \"mars\": 37.8,\n",
        "    \"jupiter\": 236.0,\n",
        "    \"saturn\": 108.1,\n",
        "    \"uranus\": 81.5,\n",
        "    \"neptune\": 114.0\n",
        "}\n",
        "\n",
        "def weight_on_planet(weight_on_earth, planet_queried):\n",
        "    while planet_queried not in dictP:\n",
        "        print(\"Invalid planet\")\n",
        "        planet_queried = input(\"Enter a planet: \").lower()\n",
        "    weight_on_planet = round(dictP[planet_queried]/100 * weight_on_earth, 2)\n",
        "    print(\"The equivalent weight on\", planet_queried.capitalize(), \"is\", weight_on_planet)\n",
        "\n",
        "def main():\n",
        "  weight_on_earth = \"\"\n",
        "  while type(weight_on_earth)!=float:\n",
        "    try:\n",
        "        weight_on_earth = float(input(\"Enter your weight on Earth: \"))\n",
        "    except ValueError:\n",
        "        print(\"Invalid input. Please enter a float value.\")\n",
        "\n",
        "    planet_queried: str = input(\"Enter a planet: \").lower()\n",
        "    weight_on_planet(weight_on_earth, planet_queried)\n",
        "\n",
        "main()"
      ],
      "metadata": {
        "colab": {
          "base_uri": "https://localhost:8080/"
        },
        "id": "SyVG1s46K_ca",
        "outputId": "42f0fdd9-268f-433a-fa3a-411653978ea8"
      },
      "execution_count": null,
      "outputs": [
        {
          "output_type": "stream",
          "name": "stdout",
          "text": [
            "Enter your weight on Earth: 5\n",
            "Enter a planet: jupiter\n",
            "The equivalent weight on Jupiter is 11.8\n"
          ]
        }
      ]
    },
    {
      "cell_type": "markdown",
      "source": [
        "# **HIGH - LOW**"
      ],
      "metadata": {
        "id": "KiZwlv5HP9Ar"
      }
    },
    {
      "cell_type": "code",
      "source": [
        "import random\n",
        "\n",
        "NUM_ROUNDS: int = 5\n",
        "SCORE: int = 0\n",
        "\n",
        "print(\"Welcome to the High-Low Game!\")\n",
        "print(\"--------------------------------\")\n",
        "\n",
        "for i in range(1, NUM_ROUNDS+1):\n",
        "  print(\"Round\", i)\n",
        "  computer = random.randint(1, 100)\n",
        "  human = random.randint(1, 100)\n",
        "  print(\"Your number is:\", human)\n",
        "  choice: str = input(\"Do you think your number is higher or lower than the computer's?: \")\n",
        "  while choice.lower() not in \"high\" and choice.lower() not in \"low\":\n",
        "    print(\"Invalid input. Please enter 'higher' or 'lower'.\")\n",
        "    choice: str = input(\"Do you think your number is higher or lower than the computer's?: \")\n",
        "  if (choice.lower() == \"higher\" and computer<human) or (choice.lower() == \"lower\" and computer>human):\n",
        "    print(\"You were right! The computer's number was\", computer)\n",
        "    SCORE += 1\n",
        "  else:\n",
        "    print(\"Aww, that's incorrect. The computer's number was\", computer)\n",
        "  print(\"Your score is now\", SCORE)\n",
        "\n",
        "print(\"Thanks for playing!\")"
      ],
      "metadata": {
        "id": "_kYmA8NoQVFL",
        "colab": {
          "base_uri": "https://localhost:8080/"
        },
        "outputId": "9690c9d5-1738-47c3-ef39-9b0356ec1e34"
      },
      "execution_count": null,
      "outputs": [
        {
          "output_type": "stream",
          "name": "stdout",
          "text": [
            "Welcome to the High-Low Game!\n",
            "--------------------------------\n",
            "Round 1\n",
            "Your number is: 56\n",
            "Do you think your number is higher or lower than the computer's?: ss\n",
            "Invalid input. Please enter 'higher' or 'lower'.\n",
            "Do you think your number is higher or lower than the computer's?: l\n",
            "Aww, that's incorrect. The computer's number was 64\n",
            "Your score is now 0\n",
            "Round 2\n",
            "Your number is: 61\n",
            "Do you think your number is higher or lower than the computer's?: h\n",
            "Aww, that's incorrect. The computer's number was 35\n",
            "Your score is now 0\n",
            "Round 3\n",
            "Your number is: 14\n",
            "Do you think your number is higher or lower than the computer's?: hig\n",
            "Aww, that's incorrect. The computer's number was 27\n",
            "Your score is now 0\n",
            "Round 4\n",
            "Your number is: 31\n",
            "Do you think your number is higher or lower than the computer's?: low\n",
            "Aww, that's incorrect. The computer's number was 49\n",
            "Your score is now 0\n",
            "Round 5\n",
            "Your number is: 63\n",
            "Do you think your number is higher or lower than the computer's?: 32\n",
            "Invalid input. Please enter 'higher' or 'lower'.\n",
            "Do you think your number is higher or lower than the computer's?: ow\n",
            "Aww, that's incorrect. The computer's number was 37\n",
            "Your score is now 0\n",
            "Thanks for playing!\n"
          ]
        }
      ]
    },
    {
      "cell_type": "markdown",
      "source": [
        "# **LISTS AND DICTS**"
      ],
      "metadata": {
        "id": "-AtUASEsr3Cb"
      }
    },
    {
      "cell_type": "code",
      "source": [
        "# PRACTICE\n",
        "\n",
        "fruit_lst =  ['apple', 'banana', 'orange', 'grape', 'pineapple']\n",
        "print(len(fruit_lst))\n",
        "fruit_lst.append('mango')\n",
        "print(fruit_lst)"
      ],
      "metadata": {
        "colab": {
          "base_uri": "https://localhost:8080/"
        },
        "id": "fEllDIyur2sO",
        "outputId": "29c97e2b-a31a-4fce-c793-5d07cc3f5362"
      },
      "execution_count": null,
      "outputs": [
        {
          "output_type": "stream",
          "name": "stdout",
          "text": [
            "5\n",
            "['apple', 'banana', 'orange', 'grape', 'pineapple', 'mango']\n"
          ]
        }
      ]
    },
    {
      "cell_type": "code",
      "source": [
        "lst = [124,\"abcd\", [1,2,4], 'AbCd', '1A2B']\n"
      ],
      "metadata": {
        "id": "yJn4lznWsffd"
      },
      "execution_count": null,
      "outputs": []
    }
  ]
}